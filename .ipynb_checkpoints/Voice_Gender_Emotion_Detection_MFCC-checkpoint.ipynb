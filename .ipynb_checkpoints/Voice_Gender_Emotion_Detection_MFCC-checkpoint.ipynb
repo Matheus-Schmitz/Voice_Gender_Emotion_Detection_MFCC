{
 "cells": [
  {
   "cell_type": "markdown",
   "metadata": {},
   "source": [
    "# Dataset"
   ]
  },
  {
   "cell_type": "markdown",
   "metadata": {},
   "source": [
    "Using data from \"The Ryerson Audio-Visual Database of Emotional Speech and Song (RAVDESS)\" by Livingstone & Russo is licensed under CC BY-NA-SC 4.0.\n",
    "\n",
    "https://zenodo.org/record/1188976\n",
    "\n",
    "The file is **Audio_Speech_Actors_01-24**"
   ]
  },
  {
   "cell_type": "markdown",
   "metadata": {},
   "source": [
    "## Data Organization"
   ]
  },
  {
   "cell_type": "markdown",
   "metadata": {},
   "source": [
    "Ryerson Audio-Visual Database of Emotional Speech and Song (RAVDESS)\n",
    "Song audio-only files (16bit, 48kHz .wav) from the RAVDESS. Full dataset of speech and song, audio and video (24.8 GB) available from Zenodo. Construction and perceptual validation of the RAVDESS is described in our Open Access paper in PLoS ONE.\n",
    "\n",
    "Check out our Kaggle Speech emotion dataset.\n",
    "\n",
    "Files\n",
    "\n",
    "This portion of the RAVDESS contains 1012 files: 44 trials per actor x 23 actors = 1012. The RAVDESS contains 24 professional actors (12 female, 12 male), vocalizing two lexically-matched statements in a neutral North American accent. Song emotions includes calm, happy, sad, angry, and fearful expressions. Each expression is produced at two levels of emotional intensity (normal, strong), with an additional neutral expression.\n",
    "\n",
    "File naming convention\n",
    "\n",
    "Each of the 1012 files has a unique filename. The filename consists of a 7-part numerical identifier (e.g., 03-02-06-01-02-01-12.wav). These identifiers define the stimulus characteristics:\n",
    "\n",
    "Filename identifiers\n",
    "\n",
    "- Modality (01 = full-AV, 02 = video-only, 03 = audio-only).\n",
    "\n",
    "- Vocal channel (01 = speech, 02 = song).\n",
    "\n",
    "- Emotion (01 = neutral, 02 = calm, 03 = happy, 04 = sad, 05 = angry, 06 = fearful, 07 = disgust, 08 = surprised).\n",
    "\n",
    "- Emotional intensity (01 = normal, 02 = strong). NOTE: There is no strong intensity for the 'neutral' emotion.\n",
    "\n",
    "- Statement (01 = \"Kids are talking by the door\", 02 = \"Dogs are sitting by the door\").\n",
    "\n",
    "- Repetition (01 = 1st repetition, 02 = 2nd repetition).\n",
    "\n",
    "- Actor (01 to 24. Odd numbered actors are male, even numbered actors are female).\n",
    "\n",
    "Filename example: 03-02-06-01-02-01-12.wav\n",
    "\n",
    "- Audio-only (03)\n",
    "- Song (02)\n",
    "- Fearful (06)\n",
    "- Normal intensity (01)\n",
    "- Statement \"dogs\" (02)\n",
    "- 1st Repetition (01)\n",
    "- 12th Actor (12)\n",
    "- Female, as the actor ID number is even.\n",
    "\n",
    "How to cite the RAVDESS\n",
    "\n",
    "Academic citation\n",
    "\n",
    "If you use the RAVDESS in an academic publication, please use the following citation: Livingstone SR, Russo FA (2018) The Ryerson Audio-Visual Database of Emotional Speech and Song (RAVDESS): A dynamic, multimodal set of facial and vocal expressions in North American English. PLoS ONE 13(5): e0196391. https://doi.org/10.1371/journal.pone.0196391.\n",
    "\n",
    "All other attributions\n",
    "\n",
    "If you use the RAVDESS in a form other than an academic publication, such as in a blog post, school project, or non-commercial product, please use the following attribution: \"The Ryerson Audio-Visual Database of Emotional Speech and Song (RAVDESS)\" by Livingstone & Russo is licensed under CC BY-NA-SC 4.0."
   ]
  },
  {
   "cell_type": "markdown",
   "metadata": {},
   "source": [
    "# Loading Packages"
   ]
  },
  {
   "cell_type": "code",
   "execution_count": 1,
   "metadata": {},
   "outputs": [],
   "source": [
    "# Imports\n",
    "import joblib\n",
    "import numpy as np\n",
    "import pandas as pd\n",
    "import matplotlib\n",
    "import matplotlib.pyplot as plt\n",
    "import librosa as lr\n",
    "import librosa.display\n",
    "import IPython.display as ipd\n",
    "import seaborn as sns\n",
    "import xgboost\n",
    "import sklearn\n",
    "import h2o\n",
    "from h2o.automl import H2OAutoML\n",
    "from glob import glob\n",
    "from joblib import dump, load\n",
    "from sklearn.cluster import KMeans\n",
    "from sklearn.metrics import silhouette_score\n",
    "from sklearn.decomposition import PCA\n",
    "from sklearn.preprocessing import StandardScaler\n",
    "from sklearn.preprocessing import LabelEncoder\n",
    "from sklearn.model_selection import train_test_split\n",
    "from xgboost import XGBClassifier\n",
    "from sklearn.tree import DecisionTreeClassifier\n",
    "from sklearn.ensemble import RandomForestClassifier\n",
    "from sklearn.metrics import accuracy_score, confusion_matrix\n",
    "%matplotlib inline"
   ]
  },
  {
   "cell_type": "code",
   "execution_count": 2,
   "metadata": {},
   "outputs": [
    {
     "name": "stdout",
     "output_type": "stream",
     "text": [
      "matplotlib 3.2.2\n",
      "pandas     1.0.5\n",
      "h2o        3.30.0.6\n",
      "seaborn    0.11.0\n",
      "librosa    0.7.2\n",
      "sklearn    0.23.1\n",
      "xgboost    0.90\n",
      "numpy      1.18.5\n",
      "joblib     0.15.1\n",
      "\n"
     ]
    }
   ],
   "source": [
    "# Package versions\n",
    "%reload_ext watermark\n",
    "%watermark --iversions"
   ]
  },
  {
   "cell_type": "markdown",
   "metadata": {},
   "source": [
    "# Loading Data"
   ]
  },
  {
   "cell_type": "code",
   "execution_count": 3,
   "metadata": {},
   "outputs": [
    {
     "name": "stdout",
     "output_type": "stream",
     "text": [
      "Wall time: 59.3 s\n"
     ]
    }
   ],
   "source": [
    "%%time\n",
    "\n",
    "# Looping through 24 folders, each with 60 samples, for a total of 1440 audio files.\n",
    "# The folders are named 'Actor_01' through 'Actor_24'\n",
    "\n",
    "# Definig the root directory name\n",
    "root_dir = 'Audio_Speech_Actors_01-24'\n",
    "\n",
    "# Dictionaries to receive the outputs\n",
    "files = {}\n",
    "sampling_rate = {}\n",
    "\n",
    "# Loop through all directories\n",
    "for itens in range(1, 25):\n",
    "    \n",
    "    # Define the folder path for that specific actor\n",
    "    if len(str(itens)) == 1:\n",
    "        audio_dir = root_dir + '/Actor_' + str('0') + str(itens)\n",
    "    else:\n",
    "        audio_dir = root_dir + '/Actor_' + str(itens)\n",
    "    \n",
    "    # Extract the path to all the directory's files\n",
    "    audio_files = glob(audio_dir + '/*.wav')\n",
    "    \n",
    "    # Store the path and sampling rate for each '.wav' file in the folder\n",
    "    for i in range(len(audio_files)):\n",
    "        x = audio_files[i]\n",
    "        audio, sfreq = lr.load(audio_files[i], sr = None)\n",
    "        files[x] = len(audio) / sfreq\n",
    "        sampling_rate[x] = sfreq"
   ]
  },
  {
   "cell_type": "code",
   "execution_count": 4,
   "metadata": {},
   "outputs": [
    {
     "data": {
      "text/plain": [
       "True"
      ]
     },
     "execution_count": 4,
     "metadata": {},
     "output_type": "execute_result"
    }
   ],
   "source": [
    "# Check if all sampling rates are equal\n",
    "all(value==48000 for value in sampling_rate.values())"
   ]
  },
  {
   "cell_type": "code",
   "execution_count": 5,
   "metadata": {},
   "outputs": [
    {
     "data": {
      "text/html": [
       "<div>\n",
       "<style scoped>\n",
       "    .dataframe tbody tr th:only-of-type {\n",
       "        vertical-align: middle;\n",
       "    }\n",
       "\n",
       "    .dataframe tbody tr th {\n",
       "        vertical-align: top;\n",
       "    }\n",
       "\n",
       "    .dataframe thead th {\n",
       "        text-align: right;\n",
       "    }\n",
       "</style>\n",
       "<table border=\"1\" class=\"dataframe\">\n",
       "  <thead>\n",
       "    <tr style=\"text-align: right;\">\n",
       "      <th></th>\n",
       "      <th>file_length</th>\n",
       "    </tr>\n",
       "  </thead>\n",
       "  <tbody>\n",
       "    <tr>\n",
       "      <th>Audio_Speech_Actors_01-24/Actor_01\\03-01-01-01-01-01-01.wav</th>\n",
       "      <td>3.303292</td>\n",
       "    </tr>\n",
       "    <tr>\n",
       "      <th>Audio_Speech_Actors_01-24/Actor_01\\03-01-01-01-01-02-01.wav</th>\n",
       "      <td>3.336667</td>\n",
       "    </tr>\n",
       "    <tr>\n",
       "      <th>Audio_Speech_Actors_01-24/Actor_01\\03-01-01-01-02-01-01.wav</th>\n",
       "      <td>3.269917</td>\n",
       "    </tr>\n",
       "    <tr>\n",
       "      <th>Audio_Speech_Actors_01-24/Actor_01\\03-01-01-01-02-02-01.wav</th>\n",
       "      <td>3.169833</td>\n",
       "    </tr>\n",
       "    <tr>\n",
       "      <th>Audio_Speech_Actors_01-24/Actor_01\\03-01-02-01-01-01-01.wav</th>\n",
       "      <td>3.536854</td>\n",
       "    </tr>\n",
       "    <tr>\n",
       "      <th>...</th>\n",
       "      <td>...</td>\n",
       "    </tr>\n",
       "    <tr>\n",
       "      <th>Audio_Speech_Actors_01-24/Actor_24\\03-01-08-01-02-02-24.wav</th>\n",
       "      <td>3.403396</td>\n",
       "    </tr>\n",
       "    <tr>\n",
       "      <th>Audio_Speech_Actors_01-24/Actor_24\\03-01-08-02-01-01-24.wav</th>\n",
       "      <td>3.937271</td>\n",
       "    </tr>\n",
       "    <tr>\n",
       "      <th>Audio_Speech_Actors_01-24/Actor_24\\03-01-08-02-01-02-24.wav</th>\n",
       "      <td>3.970625</td>\n",
       "    </tr>\n",
       "    <tr>\n",
       "      <th>Audio_Speech_Actors_01-24/Actor_24\\03-01-08-02-02-01-24.wav</th>\n",
       "      <td>3.670333</td>\n",
       "    </tr>\n",
       "    <tr>\n",
       "      <th>Audio_Speech_Actors_01-24/Actor_24\\03-01-08-02-02-02-24.wav</th>\n",
       "      <td>3.636958</td>\n",
       "    </tr>\n",
       "  </tbody>\n",
       "</table>\n",
       "<p>1440 rows × 1 columns</p>\n",
       "</div>"
      ],
      "text/plain": [
       "                                                    file_length\n",
       "Audio_Speech_Actors_01-24/Actor_01\\03-01-01-01-...     3.303292\n",
       "Audio_Speech_Actors_01-24/Actor_01\\03-01-01-01-...     3.336667\n",
       "Audio_Speech_Actors_01-24/Actor_01\\03-01-01-01-...     3.269917\n",
       "Audio_Speech_Actors_01-24/Actor_01\\03-01-01-01-...     3.169833\n",
       "Audio_Speech_Actors_01-24/Actor_01\\03-01-02-01-...     3.536854\n",
       "...                                                         ...\n",
       "Audio_Speech_Actors_01-24/Actor_24\\03-01-08-01-...     3.403396\n",
       "Audio_Speech_Actors_01-24/Actor_24\\03-01-08-02-...     3.937271\n",
       "Audio_Speech_Actors_01-24/Actor_24\\03-01-08-02-...     3.970625\n",
       "Audio_Speech_Actors_01-24/Actor_24\\03-01-08-02-...     3.670333\n",
       "Audio_Speech_Actors_01-24/Actor_24\\03-01-08-02-...     3.636958\n",
       "\n",
       "[1440 rows x 1 columns]"
      ]
     },
     "execution_count": 5,
     "metadata": {},
     "output_type": "execute_result"
    }
   ],
   "source": [
    "# Put everying into a dataframe\n",
    "audio_df = pd.DataFrame()\n",
    "\n",
    "for keys, values in files.items():\n",
    "    audio_df.at[keys,'file_length'] = values\n",
    "    \n",
    "audio_df "
   ]
  },
  {
   "cell_type": "code",
   "execution_count": 6,
   "metadata": {},
   "outputs": [],
   "source": [
    "# Function to extract the audio files and their sampling rates\n",
    "# This is necessary to obtain the mfcc from an audio file\n",
    "def extract_audio_data(file):\n",
    "    audio, sfreq = lr.load(file, sr = None)\n",
    "    return audio, sfreq"
   ]
  },
  {
   "cell_type": "code",
   "execution_count": 7,
   "metadata": {},
   "outputs": [
    {
     "name": "stdout",
     "output_type": "stream",
     "text": [
      "\n",
      "Shape of the series representing the audio (y): (174574,) \n",
      "Sampling Rate (sr): 48000\n"
     ]
    }
   ],
   "source": [
    "# Checking the shape and sampling rates for an audio file\n",
    "# Their rate (shape / sampling rate) is the file_length\n",
    "audio, sfreq = extract_audio_data(audio_df.index[1439])\n",
    "print(f'\\nShape of the series representing the audio (y): {audio.shape} \\nSampling Rate (sr): {sfreq}')"
   ]
  },
  {
   "cell_type": "code",
   "execution_count": 8,
   "metadata": {},
   "outputs": [],
   "source": [
    "# Function to extract the MFCC from a file\n",
    "def extract_mfcc(file):\n",
    "    audio, sfreq = extract_audio_data(file)\n",
    "    mfccs = librosa.feature.mfcc(audio, sr = sfreq)\n",
    "    return mfccs"
   ]
  },
  {
   "cell_type": "code",
   "execution_count": 9,
   "metadata": {},
   "outputs": [
    {
     "data": {
      "text/plain": [
       "array([[-861.5326, -861.5326, -861.5326, ..., -861.5326, -861.5326,\n",
       "        -861.5326],\n",
       "       [   0.    ,    0.    ,    0.    , ...,    0.    ,    0.    ,\n",
       "           0.    ],\n",
       "       [   0.    ,    0.    ,    0.    , ...,    0.    ,    0.    ,\n",
       "           0.    ],\n",
       "       ...,\n",
       "       [   0.    ,    0.    ,    0.    , ...,    0.    ,    0.    ,\n",
       "           0.    ],\n",
       "       [   0.    ,    0.    ,    0.    , ...,    0.    ,    0.    ,\n",
       "           0.    ],\n",
       "       [   0.    ,    0.    ,    0.    , ...,    0.    ,    0.    ,\n",
       "           0.    ]], dtype=float32)"
      ]
     },
     "execution_count": 9,
     "metadata": {},
     "output_type": "execute_result"
    }
   ],
   "source": [
    "extract_mfcc(audio_df.index[0])"
   ]
  },
  {
   "cell_type": "markdown",
   "metadata": {},
   "source": [
    "Filename identifiers\n",
    "\n",
    "- Modality (01 = full-AV, 02 = video-only, 03 = audio-only).\n",
    "\n",
    "- Vocal channel (01 = speech, 02 = song).\n",
    "\n",
    "- Emotion (01 = neutral, 02 = calm, 03 = happy, 04 = sad, 05 = angry, 06 = fearful, 07 = disgust, 08 = surprised).\n",
    "\n",
    "- Emotional intensity (01 = normal, 02 = strong). NOTE: There is no strong intensity for the 'neutral' emotion.\n",
    "\n",
    "- Statement (01 = \"Kids are talking by the door\", 02 = \"Dogs are sitting by the door\").\n",
    "\n",
    "- Repetition (01 = 1st repetition, 02 = 2nd repetition).\n",
    "\n",
    "- Actor (01 to 24. Odd numbered actors are male, even numbered actors are female).\n",
    "\n",
    "Filename example: 03-02-06-01-02-01-12.wav\n",
    "\n",
    "- Audio-only (03)\n",
    "- Song (02)\n",
    "- Fearful (06)\n",
    "- Normal intensity (01)\n",
    "- Statement \"dogs\" (02)\n",
    "- 1st Repetition (01)\n",
    "- 12th Actor (12)\n",
    "- Female, as the actor ID number is even."
   ]
  },
  {
   "cell_type": "code",
   "execution_count": 10,
   "metadata": {},
   "outputs": [
    {
     "name": "stdout",
     "output_type": "stream",
     "text": [
      "Wall time: 48.2 s\n"
     ]
    }
   ],
   "source": [
    "%%time\n",
    "\n",
    "# Create a list to store the identifiers for each audio file\n",
    "list_data_frame = []\n",
    "\n",
    "# Loop to extract the identifiers from files\n",
    "for file_path in audio_df.index:\n",
    "    \n",
    "    # Call function to obtains mfccs\n",
    "    data = extract_mfcc(file_path)\n",
    "    \n",
    "    # Transform the data to shape (n samples, n features)\n",
    "    frame = pd.DataFrame(data.T, columns = ['mfcc' + str(x) for x in range (0,20)])\n",
    "    \n",
    "    # Extract actor gender using the encoding\n",
    "    frame['ID_ACTOR_GENDER'] = file_path[53:55]\n",
    "    \n",
    "    # Exctract emotion using the encoding\n",
    "    frame['ID_EMOTION'] = file_path[41:43]\n",
    "    \n",
    "    # Extract emotion intensity\n",
    "    frame['ID_EMOTION_INTENSITY'] = file_path[44:46]\n",
    "    \n",
    "    # Append to the list\n",
    "    list_data_frame.append(frame)"
   ]
  },
  {
   "cell_type": "code",
   "execution_count": 11,
   "metadata": {},
   "outputs": [],
   "source": [
    "# Contatenate the list elements into a df\n",
    "identifiers_df = pd.concat(list_data_frame, ignore_index = True)"
   ]
  },
  {
   "cell_type": "code",
   "execution_count": 12,
   "metadata": {},
   "outputs": [
    {
     "data": {
      "text/html": [
       "<div>\n",
       "<style scoped>\n",
       "    .dataframe tbody tr th:only-of-type {\n",
       "        vertical-align: middle;\n",
       "    }\n",
       "\n",
       "    .dataframe tbody tr th {\n",
       "        vertical-align: top;\n",
       "    }\n",
       "\n",
       "    .dataframe thead th {\n",
       "        text-align: right;\n",
       "    }\n",
       "</style>\n",
       "<table border=\"1\" class=\"dataframe\">\n",
       "  <thead>\n",
       "    <tr style=\"text-align: right;\">\n",
       "      <th></th>\n",
       "      <th>mfcc0</th>\n",
       "      <th>mfcc1</th>\n",
       "      <th>mfcc2</th>\n",
       "      <th>mfcc3</th>\n",
       "      <th>mfcc4</th>\n",
       "      <th>mfcc5</th>\n",
       "      <th>mfcc6</th>\n",
       "      <th>mfcc7</th>\n",
       "      <th>mfcc8</th>\n",
       "      <th>mfcc9</th>\n",
       "      <th>...</th>\n",
       "      <th>mfcc13</th>\n",
       "      <th>mfcc14</th>\n",
       "      <th>mfcc15</th>\n",
       "      <th>mfcc16</th>\n",
       "      <th>mfcc17</th>\n",
       "      <th>mfcc18</th>\n",
       "      <th>mfcc19</th>\n",
       "      <th>ID_ACTOR_GENDER</th>\n",
       "      <th>ID_EMOTION</th>\n",
       "      <th>ID_EMOTION_INTENSITY</th>\n",
       "    </tr>\n",
       "  </thead>\n",
       "  <tbody>\n",
       "    <tr>\n",
       "      <th>0</th>\n",
       "      <td>-861.532593</td>\n",
       "      <td>0.000000</td>\n",
       "      <td>0.000000</td>\n",
       "      <td>0.000000</td>\n",
       "      <td>0.000000</td>\n",
       "      <td>0.000000</td>\n",
       "      <td>0.000000</td>\n",
       "      <td>0.000000</td>\n",
       "      <td>0.000000</td>\n",
       "      <td>0.000000</td>\n",
       "      <td>...</td>\n",
       "      <td>0.000000</td>\n",
       "      <td>0.000000</td>\n",
       "      <td>0.000000</td>\n",
       "      <td>0.000000</td>\n",
       "      <td>0.000000</td>\n",
       "      <td>0.000000</td>\n",
       "      <td>0.000000</td>\n",
       "      <td>01</td>\n",
       "      <td>01</td>\n",
       "      <td>01</td>\n",
       "    </tr>\n",
       "    <tr>\n",
       "      <th>1</th>\n",
       "      <td>-861.532593</td>\n",
       "      <td>0.000000</td>\n",
       "      <td>0.000000</td>\n",
       "      <td>0.000000</td>\n",
       "      <td>0.000000</td>\n",
       "      <td>0.000000</td>\n",
       "      <td>0.000000</td>\n",
       "      <td>0.000000</td>\n",
       "      <td>0.000000</td>\n",
       "      <td>0.000000</td>\n",
       "      <td>...</td>\n",
       "      <td>0.000000</td>\n",
       "      <td>0.000000</td>\n",
       "      <td>0.000000</td>\n",
       "      <td>0.000000</td>\n",
       "      <td>0.000000</td>\n",
       "      <td>0.000000</td>\n",
       "      <td>0.000000</td>\n",
       "      <td>01</td>\n",
       "      <td>01</td>\n",
       "      <td>01</td>\n",
       "    </tr>\n",
       "    <tr>\n",
       "      <th>2</th>\n",
       "      <td>-861.532593</td>\n",
       "      <td>0.000000</td>\n",
       "      <td>0.000000</td>\n",
       "      <td>0.000000</td>\n",
       "      <td>0.000000</td>\n",
       "      <td>0.000000</td>\n",
       "      <td>0.000000</td>\n",
       "      <td>0.000000</td>\n",
       "      <td>0.000000</td>\n",
       "      <td>0.000000</td>\n",
       "      <td>...</td>\n",
       "      <td>0.000000</td>\n",
       "      <td>0.000000</td>\n",
       "      <td>0.000000</td>\n",
       "      <td>0.000000</td>\n",
       "      <td>0.000000</td>\n",
       "      <td>0.000000</td>\n",
       "      <td>0.000000</td>\n",
       "      <td>01</td>\n",
       "      <td>01</td>\n",
       "      <td>01</td>\n",
       "    </tr>\n",
       "    <tr>\n",
       "      <th>3</th>\n",
       "      <td>-861.532593</td>\n",
       "      <td>0.000000</td>\n",
       "      <td>0.000000</td>\n",
       "      <td>0.000000</td>\n",
       "      <td>0.000000</td>\n",
       "      <td>0.000000</td>\n",
       "      <td>0.000000</td>\n",
       "      <td>0.000000</td>\n",
       "      <td>0.000000</td>\n",
       "      <td>0.000000</td>\n",
       "      <td>...</td>\n",
       "      <td>0.000000</td>\n",
       "      <td>0.000000</td>\n",
       "      <td>0.000000</td>\n",
       "      <td>0.000000</td>\n",
       "      <td>0.000000</td>\n",
       "      <td>0.000000</td>\n",
       "      <td>0.000000</td>\n",
       "      <td>01</td>\n",
       "      <td>01</td>\n",
       "      <td>01</td>\n",
       "    </tr>\n",
       "    <tr>\n",
       "      <th>4</th>\n",
       "      <td>-861.532593</td>\n",
       "      <td>0.000000</td>\n",
       "      <td>0.000000</td>\n",
       "      <td>0.000000</td>\n",
       "      <td>0.000000</td>\n",
       "      <td>0.000000</td>\n",
       "      <td>0.000000</td>\n",
       "      <td>0.000000</td>\n",
       "      <td>0.000000</td>\n",
       "      <td>0.000000</td>\n",
       "      <td>...</td>\n",
       "      <td>0.000000</td>\n",
       "      <td>0.000000</td>\n",
       "      <td>0.000000</td>\n",
       "      <td>0.000000</td>\n",
       "      <td>0.000000</td>\n",
       "      <td>0.000000</td>\n",
       "      <td>0.000000</td>\n",
       "      <td>01</td>\n",
       "      <td>01</td>\n",
       "      <td>01</td>\n",
       "    </tr>\n",
       "    <tr>\n",
       "      <th>...</th>\n",
       "      <td>...</td>\n",
       "      <td>...</td>\n",
       "      <td>...</td>\n",
       "      <td>...</td>\n",
       "      <td>...</td>\n",
       "      <td>...</td>\n",
       "      <td>...</td>\n",
       "      <td>...</td>\n",
       "      <td>...</td>\n",
       "      <td>...</td>\n",
       "      <td>...</td>\n",
       "      <td>...</td>\n",
       "      <td>...</td>\n",
       "      <td>...</td>\n",
       "      <td>...</td>\n",
       "      <td>...</td>\n",
       "      <td>...</td>\n",
       "      <td>...</td>\n",
       "      <td>...</td>\n",
       "      <td>...</td>\n",
       "      <td>...</td>\n",
       "    </tr>\n",
       "    <tr>\n",
       "      <th>500281</th>\n",
       "      <td>-693.609009</td>\n",
       "      <td>3.021235</td>\n",
       "      <td>3.011289</td>\n",
       "      <td>2.994891</td>\n",
       "      <td>2.972303</td>\n",
       "      <td>2.943882</td>\n",
       "      <td>2.910077</td>\n",
       "      <td>2.871416</td>\n",
       "      <td>2.828496</td>\n",
       "      <td>2.781949</td>\n",
       "      <td>...</td>\n",
       "      <td>2.573641</td>\n",
       "      <td>2.519586</td>\n",
       "      <td>2.466096</td>\n",
       "      <td>2.413781</td>\n",
       "      <td>2.363167</td>\n",
       "      <td>2.314736</td>\n",
       "      <td>2.268862</td>\n",
       "      <td>24</td>\n",
       "      <td>08</td>\n",
       "      <td>02</td>\n",
       "    </tr>\n",
       "    <tr>\n",
       "      <th>500282</th>\n",
       "      <td>-691.884399</td>\n",
       "      <td>5.430296</td>\n",
       "      <td>5.332271</td>\n",
       "      <td>5.174513</td>\n",
       "      <td>4.964972</td>\n",
       "      <td>4.713866</td>\n",
       "      <td>4.432867</td>\n",
       "      <td>4.134216</td>\n",
       "      <td>3.829843</td>\n",
       "      <td>3.530532</td>\n",
       "      <td>...</td>\n",
       "      <td>2.529897</td>\n",
       "      <td>2.345227</td>\n",
       "      <td>2.186139</td>\n",
       "      <td>2.050030</td>\n",
       "      <td>1.933901</td>\n",
       "      <td>1.835087</td>\n",
       "      <td>1.751647</td>\n",
       "      <td>24</td>\n",
       "      <td>08</td>\n",
       "      <td>02</td>\n",
       "    </tr>\n",
       "    <tr>\n",
       "      <th>500283</th>\n",
       "      <td>-692.399963</td>\n",
       "      <td>4.718255</td>\n",
       "      <td>4.670175</td>\n",
       "      <td>4.591483</td>\n",
       "      <td>4.484293</td>\n",
       "      <td>4.351463</td>\n",
       "      <td>4.196495</td>\n",
       "      <td>4.023423</td>\n",
       "      <td>3.836677</td>\n",
       "      <td>3.640923</td>\n",
       "      <td>...</td>\n",
       "      <td>2.861344</td>\n",
       "      <td>2.688585</td>\n",
       "      <td>2.531607</td>\n",
       "      <td>2.392811</td>\n",
       "      <td>2.273795</td>\n",
       "      <td>2.175476</td>\n",
       "      <td>2.097934</td>\n",
       "      <td>24</td>\n",
       "      <td>08</td>\n",
       "      <td>02</td>\n",
       "    </tr>\n",
       "    <tr>\n",
       "      <th>500284</th>\n",
       "      <td>-694.268372</td>\n",
       "      <td>2.090834</td>\n",
       "      <td>2.086926</td>\n",
       "      <td>2.080427</td>\n",
       "      <td>2.071359</td>\n",
       "      <td>2.059744</td>\n",
       "      <td>2.045627</td>\n",
       "      <td>2.029049</td>\n",
       "      <td>2.010061</td>\n",
       "      <td>1.988727</td>\n",
       "      <td>...</td>\n",
       "      <td>1.881333</td>\n",
       "      <td>1.849386</td>\n",
       "      <td>1.815585</td>\n",
       "      <td>1.780022</td>\n",
       "      <td>1.742835</td>\n",
       "      <td>1.704102</td>\n",
       "      <td>1.663948</td>\n",
       "      <td>24</td>\n",
       "      <td>08</td>\n",
       "      <td>02</td>\n",
       "    </tr>\n",
       "    <tr>\n",
       "      <th>500285</th>\n",
       "      <td>-692.471741</td>\n",
       "      <td>4.618038</td>\n",
       "      <td>4.574526</td>\n",
       "      <td>4.505244</td>\n",
       "      <td>4.414803</td>\n",
       "      <td>4.309120</td>\n",
       "      <td>4.195020</td>\n",
       "      <td>4.079656</td>\n",
       "      <td>3.969994</td>\n",
       "      <td>3.872242</td>\n",
       "      <td>...</td>\n",
       "      <td>3.675385</td>\n",
       "      <td>3.677577</td>\n",
       "      <td>3.694948</td>\n",
       "      <td>3.722036</td>\n",
       "      <td>3.752502</td>\n",
       "      <td>3.779414</td>\n",
       "      <td>3.796019</td>\n",
       "      <td>24</td>\n",
       "      <td>08</td>\n",
       "      <td>02</td>\n",
       "    </tr>\n",
       "  </tbody>\n",
       "</table>\n",
       "<p>500286 rows × 23 columns</p>\n",
       "</div>"
      ],
      "text/plain": [
       "             mfcc0     mfcc1     mfcc2     mfcc3     mfcc4     mfcc5  \\\n",
       "0      -861.532593  0.000000  0.000000  0.000000  0.000000  0.000000   \n",
       "1      -861.532593  0.000000  0.000000  0.000000  0.000000  0.000000   \n",
       "2      -861.532593  0.000000  0.000000  0.000000  0.000000  0.000000   \n",
       "3      -861.532593  0.000000  0.000000  0.000000  0.000000  0.000000   \n",
       "4      -861.532593  0.000000  0.000000  0.000000  0.000000  0.000000   \n",
       "...            ...       ...       ...       ...       ...       ...   \n",
       "500281 -693.609009  3.021235  3.011289  2.994891  2.972303  2.943882   \n",
       "500282 -691.884399  5.430296  5.332271  5.174513  4.964972  4.713866   \n",
       "500283 -692.399963  4.718255  4.670175  4.591483  4.484293  4.351463   \n",
       "500284 -694.268372  2.090834  2.086926  2.080427  2.071359  2.059744   \n",
       "500285 -692.471741  4.618038  4.574526  4.505244  4.414803  4.309120   \n",
       "\n",
       "           mfcc6     mfcc7     mfcc8     mfcc9  ...    mfcc13    mfcc14  \\\n",
       "0       0.000000  0.000000  0.000000  0.000000  ...  0.000000  0.000000   \n",
       "1       0.000000  0.000000  0.000000  0.000000  ...  0.000000  0.000000   \n",
       "2       0.000000  0.000000  0.000000  0.000000  ...  0.000000  0.000000   \n",
       "3       0.000000  0.000000  0.000000  0.000000  ...  0.000000  0.000000   \n",
       "4       0.000000  0.000000  0.000000  0.000000  ...  0.000000  0.000000   \n",
       "...          ...       ...       ...       ...  ...       ...       ...   \n",
       "500281  2.910077  2.871416  2.828496  2.781949  ...  2.573641  2.519586   \n",
       "500282  4.432867  4.134216  3.829843  3.530532  ...  2.529897  2.345227   \n",
       "500283  4.196495  4.023423  3.836677  3.640923  ...  2.861344  2.688585   \n",
       "500284  2.045627  2.029049  2.010061  1.988727  ...  1.881333  1.849386   \n",
       "500285  4.195020  4.079656  3.969994  3.872242  ...  3.675385  3.677577   \n",
       "\n",
       "          mfcc15    mfcc16    mfcc17    mfcc18    mfcc19  ID_ACTOR_GENDER  \\\n",
       "0       0.000000  0.000000  0.000000  0.000000  0.000000               01   \n",
       "1       0.000000  0.000000  0.000000  0.000000  0.000000               01   \n",
       "2       0.000000  0.000000  0.000000  0.000000  0.000000               01   \n",
       "3       0.000000  0.000000  0.000000  0.000000  0.000000               01   \n",
       "4       0.000000  0.000000  0.000000  0.000000  0.000000               01   \n",
       "...          ...       ...       ...       ...       ...              ...   \n",
       "500281  2.466096  2.413781  2.363167  2.314736  2.268862               24   \n",
       "500282  2.186139  2.050030  1.933901  1.835087  1.751647               24   \n",
       "500283  2.531607  2.392811  2.273795  2.175476  2.097934               24   \n",
       "500284  1.815585  1.780022  1.742835  1.704102  1.663948               24   \n",
       "500285  3.694948  3.722036  3.752502  3.779414  3.796019               24   \n",
       "\n",
       "        ID_EMOTION  ID_EMOTION_INTENSITY  \n",
       "0               01                    01  \n",
       "1               01                    01  \n",
       "2               01                    01  \n",
       "3               01                    01  \n",
       "4               01                    01  \n",
       "...            ...                   ...  \n",
       "500281          08                    02  \n",
       "500282          08                    02  \n",
       "500283          08                    02  \n",
       "500284          08                    02  \n",
       "500285          08                    02  \n",
       "\n",
       "[500286 rows x 23 columns]"
      ]
     },
     "execution_count": 12,
     "metadata": {},
     "output_type": "execute_result"
    }
   ],
   "source": [
    "# Check result\n",
    "identifiers_df"
   ]
  },
  {
   "cell_type": "code",
   "execution_count": 13,
   "metadata": {},
   "outputs": [],
   "source": [
    "# Using ID_ACTOR_GENDER to define LABEL_GENDER\n",
    "identifiers_df['LABEL_GENDER'] = list(map(lambda x: 'male' if int(x)%2 == 1 else 'female',\n",
    "                                         identifiers_df.ID_ACTOR_GENDER))"
   ]
  },
  {
   "cell_type": "code",
   "execution_count": 14,
   "metadata": {},
   "outputs": [],
   "source": [
    "# Using ID_EMOTION to define LABEL_EMOTION\n",
    "identifiers_df['LABEL_EMOTION'] = identifiers_df.ID_EMOTION.map({'01':'neutral',\n",
    "                                                                 '02':'calm',\n",
    "                                                                 '03':'happy',\n",
    "                                                                 '04':'sad',\n",
    "                                                                 '05':'angry',\n",
    "                                                                 '06':'fearful',\n",
    "                                                                 '07':'disgust',\n",
    "                                                                 '08':'surprised'})"
   ]
  },
  {
   "cell_type": "code",
   "execution_count": 15,
   "metadata": {},
   "outputs": [],
   "source": [
    "# Using ID_EMOTION_INTENSITY to define LABEL_INTENSITY\n",
    "identifiers_df['LABEL_INTENSITY'] = identifiers_df.ID_EMOTION_INTENSITY.map({'01':'normal',\n",
    "                                                                             '02':'strong'})"
   ]
  },
  {
   "cell_type": "code",
   "execution_count": 16,
   "metadata": {},
   "outputs": [],
   "source": [
    "# Creating a GENDER + EMOTION label\n",
    "identifiers_df['LABEL_GENDER_EMOTION'] = identifiers_df['LABEL_GENDER'] + '_' + identifiers_df['LABEL_EMOTION']"
   ]
  },
  {
   "cell_type": "code",
   "execution_count": 17,
   "metadata": {},
   "outputs": [],
   "source": [
    "# Renaming it as df_final\n",
    "df_final = identifiers_df.copy()"
   ]
  },
  {
   "cell_type": "code",
   "execution_count": 18,
   "metadata": {},
   "outputs": [
    {
     "data": {
      "text/html": [
       "<div>\n",
       "<style scoped>\n",
       "    .dataframe tbody tr th:only-of-type {\n",
       "        vertical-align: middle;\n",
       "    }\n",
       "\n",
       "    .dataframe tbody tr th {\n",
       "        vertical-align: top;\n",
       "    }\n",
       "\n",
       "    .dataframe thead th {\n",
       "        text-align: right;\n",
       "    }\n",
       "</style>\n",
       "<table border=\"1\" class=\"dataframe\">\n",
       "  <thead>\n",
       "    <tr style=\"text-align: right;\">\n",
       "      <th></th>\n",
       "      <th>mfcc0</th>\n",
       "      <th>mfcc1</th>\n",
       "      <th>mfcc2</th>\n",
       "      <th>mfcc3</th>\n",
       "      <th>mfcc4</th>\n",
       "      <th>mfcc5</th>\n",
       "      <th>mfcc6</th>\n",
       "      <th>mfcc7</th>\n",
       "      <th>mfcc8</th>\n",
       "      <th>mfcc9</th>\n",
       "      <th>...</th>\n",
       "      <th>mfcc17</th>\n",
       "      <th>mfcc18</th>\n",
       "      <th>mfcc19</th>\n",
       "      <th>ID_ACTOR_GENDER</th>\n",
       "      <th>ID_EMOTION</th>\n",
       "      <th>ID_EMOTION_INTENSITY</th>\n",
       "      <th>LABEL_GENDER</th>\n",
       "      <th>LABEL_EMOTION</th>\n",
       "      <th>LABEL_INTENSITY</th>\n",
       "      <th>LABEL_GENDER_EMOTION</th>\n",
       "    </tr>\n",
       "  </thead>\n",
       "  <tbody>\n",
       "    <tr>\n",
       "      <th>0</th>\n",
       "      <td>-861.532593</td>\n",
       "      <td>0.000000</td>\n",
       "      <td>0.000000</td>\n",
       "      <td>0.000000</td>\n",
       "      <td>0.000000</td>\n",
       "      <td>0.000000</td>\n",
       "      <td>0.000000</td>\n",
       "      <td>0.000000</td>\n",
       "      <td>0.000000</td>\n",
       "      <td>0.000000</td>\n",
       "      <td>...</td>\n",
       "      <td>0.000000</td>\n",
       "      <td>0.000000</td>\n",
       "      <td>0.000000</td>\n",
       "      <td>01</td>\n",
       "      <td>01</td>\n",
       "      <td>01</td>\n",
       "      <td>male</td>\n",
       "      <td>neutral</td>\n",
       "      <td>normal</td>\n",
       "      <td>male_neutral</td>\n",
       "    </tr>\n",
       "    <tr>\n",
       "      <th>1</th>\n",
       "      <td>-861.532593</td>\n",
       "      <td>0.000000</td>\n",
       "      <td>0.000000</td>\n",
       "      <td>0.000000</td>\n",
       "      <td>0.000000</td>\n",
       "      <td>0.000000</td>\n",
       "      <td>0.000000</td>\n",
       "      <td>0.000000</td>\n",
       "      <td>0.000000</td>\n",
       "      <td>0.000000</td>\n",
       "      <td>...</td>\n",
       "      <td>0.000000</td>\n",
       "      <td>0.000000</td>\n",
       "      <td>0.000000</td>\n",
       "      <td>01</td>\n",
       "      <td>01</td>\n",
       "      <td>01</td>\n",
       "      <td>male</td>\n",
       "      <td>neutral</td>\n",
       "      <td>normal</td>\n",
       "      <td>male_neutral</td>\n",
       "    </tr>\n",
       "    <tr>\n",
       "      <th>2</th>\n",
       "      <td>-861.532593</td>\n",
       "      <td>0.000000</td>\n",
       "      <td>0.000000</td>\n",
       "      <td>0.000000</td>\n",
       "      <td>0.000000</td>\n",
       "      <td>0.000000</td>\n",
       "      <td>0.000000</td>\n",
       "      <td>0.000000</td>\n",
       "      <td>0.000000</td>\n",
       "      <td>0.000000</td>\n",
       "      <td>...</td>\n",
       "      <td>0.000000</td>\n",
       "      <td>0.000000</td>\n",
       "      <td>0.000000</td>\n",
       "      <td>01</td>\n",
       "      <td>01</td>\n",
       "      <td>01</td>\n",
       "      <td>male</td>\n",
       "      <td>neutral</td>\n",
       "      <td>normal</td>\n",
       "      <td>male_neutral</td>\n",
       "    </tr>\n",
       "    <tr>\n",
       "      <th>3</th>\n",
       "      <td>-861.532593</td>\n",
       "      <td>0.000000</td>\n",
       "      <td>0.000000</td>\n",
       "      <td>0.000000</td>\n",
       "      <td>0.000000</td>\n",
       "      <td>0.000000</td>\n",
       "      <td>0.000000</td>\n",
       "      <td>0.000000</td>\n",
       "      <td>0.000000</td>\n",
       "      <td>0.000000</td>\n",
       "      <td>...</td>\n",
       "      <td>0.000000</td>\n",
       "      <td>0.000000</td>\n",
       "      <td>0.000000</td>\n",
       "      <td>01</td>\n",
       "      <td>01</td>\n",
       "      <td>01</td>\n",
       "      <td>male</td>\n",
       "      <td>neutral</td>\n",
       "      <td>normal</td>\n",
       "      <td>male_neutral</td>\n",
       "    </tr>\n",
       "    <tr>\n",
       "      <th>4</th>\n",
       "      <td>-861.532593</td>\n",
       "      <td>0.000000</td>\n",
       "      <td>0.000000</td>\n",
       "      <td>0.000000</td>\n",
       "      <td>0.000000</td>\n",
       "      <td>0.000000</td>\n",
       "      <td>0.000000</td>\n",
       "      <td>0.000000</td>\n",
       "      <td>0.000000</td>\n",
       "      <td>0.000000</td>\n",
       "      <td>...</td>\n",
       "      <td>0.000000</td>\n",
       "      <td>0.000000</td>\n",
       "      <td>0.000000</td>\n",
       "      <td>01</td>\n",
       "      <td>01</td>\n",
       "      <td>01</td>\n",
       "      <td>male</td>\n",
       "      <td>neutral</td>\n",
       "      <td>normal</td>\n",
       "      <td>male_neutral</td>\n",
       "    </tr>\n",
       "    <tr>\n",
       "      <th>...</th>\n",
       "      <td>...</td>\n",
       "      <td>...</td>\n",
       "      <td>...</td>\n",
       "      <td>...</td>\n",
       "      <td>...</td>\n",
       "      <td>...</td>\n",
       "      <td>...</td>\n",
       "      <td>...</td>\n",
       "      <td>...</td>\n",
       "      <td>...</td>\n",
       "      <td>...</td>\n",
       "      <td>...</td>\n",
       "      <td>...</td>\n",
       "      <td>...</td>\n",
       "      <td>...</td>\n",
       "      <td>...</td>\n",
       "      <td>...</td>\n",
       "      <td>...</td>\n",
       "      <td>...</td>\n",
       "      <td>...</td>\n",
       "      <td>...</td>\n",
       "    </tr>\n",
       "    <tr>\n",
       "      <th>500281</th>\n",
       "      <td>-693.609009</td>\n",
       "      <td>3.021235</td>\n",
       "      <td>3.011289</td>\n",
       "      <td>2.994891</td>\n",
       "      <td>2.972303</td>\n",
       "      <td>2.943882</td>\n",
       "      <td>2.910077</td>\n",
       "      <td>2.871416</td>\n",
       "      <td>2.828496</td>\n",
       "      <td>2.781949</td>\n",
       "      <td>...</td>\n",
       "      <td>2.363167</td>\n",
       "      <td>2.314736</td>\n",
       "      <td>2.268862</td>\n",
       "      <td>24</td>\n",
       "      <td>08</td>\n",
       "      <td>02</td>\n",
       "      <td>female</td>\n",
       "      <td>surprised</td>\n",
       "      <td>strong</td>\n",
       "      <td>female_surprised</td>\n",
       "    </tr>\n",
       "    <tr>\n",
       "      <th>500282</th>\n",
       "      <td>-691.884399</td>\n",
       "      <td>5.430296</td>\n",
       "      <td>5.332271</td>\n",
       "      <td>5.174513</td>\n",
       "      <td>4.964972</td>\n",
       "      <td>4.713866</td>\n",
       "      <td>4.432867</td>\n",
       "      <td>4.134216</td>\n",
       "      <td>3.829843</td>\n",
       "      <td>3.530532</td>\n",
       "      <td>...</td>\n",
       "      <td>1.933901</td>\n",
       "      <td>1.835087</td>\n",
       "      <td>1.751647</td>\n",
       "      <td>24</td>\n",
       "      <td>08</td>\n",
       "      <td>02</td>\n",
       "      <td>female</td>\n",
       "      <td>surprised</td>\n",
       "      <td>strong</td>\n",
       "      <td>female_surprised</td>\n",
       "    </tr>\n",
       "    <tr>\n",
       "      <th>500283</th>\n",
       "      <td>-692.399963</td>\n",
       "      <td>4.718255</td>\n",
       "      <td>4.670175</td>\n",
       "      <td>4.591483</td>\n",
       "      <td>4.484293</td>\n",
       "      <td>4.351463</td>\n",
       "      <td>4.196495</td>\n",
       "      <td>4.023423</td>\n",
       "      <td>3.836677</td>\n",
       "      <td>3.640923</td>\n",
       "      <td>...</td>\n",
       "      <td>2.273795</td>\n",
       "      <td>2.175476</td>\n",
       "      <td>2.097934</td>\n",
       "      <td>24</td>\n",
       "      <td>08</td>\n",
       "      <td>02</td>\n",
       "      <td>female</td>\n",
       "      <td>surprised</td>\n",
       "      <td>strong</td>\n",
       "      <td>female_surprised</td>\n",
       "    </tr>\n",
       "    <tr>\n",
       "      <th>500284</th>\n",
       "      <td>-694.268372</td>\n",
       "      <td>2.090834</td>\n",
       "      <td>2.086926</td>\n",
       "      <td>2.080427</td>\n",
       "      <td>2.071359</td>\n",
       "      <td>2.059744</td>\n",
       "      <td>2.045627</td>\n",
       "      <td>2.029049</td>\n",
       "      <td>2.010061</td>\n",
       "      <td>1.988727</td>\n",
       "      <td>...</td>\n",
       "      <td>1.742835</td>\n",
       "      <td>1.704102</td>\n",
       "      <td>1.663948</td>\n",
       "      <td>24</td>\n",
       "      <td>08</td>\n",
       "      <td>02</td>\n",
       "      <td>female</td>\n",
       "      <td>surprised</td>\n",
       "      <td>strong</td>\n",
       "      <td>female_surprised</td>\n",
       "    </tr>\n",
       "    <tr>\n",
       "      <th>500285</th>\n",
       "      <td>-692.471741</td>\n",
       "      <td>4.618038</td>\n",
       "      <td>4.574526</td>\n",
       "      <td>4.505244</td>\n",
       "      <td>4.414803</td>\n",
       "      <td>4.309120</td>\n",
       "      <td>4.195020</td>\n",
       "      <td>4.079656</td>\n",
       "      <td>3.969994</td>\n",
       "      <td>3.872242</td>\n",
       "      <td>...</td>\n",
       "      <td>3.752502</td>\n",
       "      <td>3.779414</td>\n",
       "      <td>3.796019</td>\n",
       "      <td>24</td>\n",
       "      <td>08</td>\n",
       "      <td>02</td>\n",
       "      <td>female</td>\n",
       "      <td>surprised</td>\n",
       "      <td>strong</td>\n",
       "      <td>female_surprised</td>\n",
       "    </tr>\n",
       "  </tbody>\n",
       "</table>\n",
       "<p>500286 rows × 27 columns</p>\n",
       "</div>"
      ],
      "text/plain": [
       "             mfcc0     mfcc1     mfcc2     mfcc3     mfcc4     mfcc5  \\\n",
       "0      -861.532593  0.000000  0.000000  0.000000  0.000000  0.000000   \n",
       "1      -861.532593  0.000000  0.000000  0.000000  0.000000  0.000000   \n",
       "2      -861.532593  0.000000  0.000000  0.000000  0.000000  0.000000   \n",
       "3      -861.532593  0.000000  0.000000  0.000000  0.000000  0.000000   \n",
       "4      -861.532593  0.000000  0.000000  0.000000  0.000000  0.000000   \n",
       "...            ...       ...       ...       ...       ...       ...   \n",
       "500281 -693.609009  3.021235  3.011289  2.994891  2.972303  2.943882   \n",
       "500282 -691.884399  5.430296  5.332271  5.174513  4.964972  4.713866   \n",
       "500283 -692.399963  4.718255  4.670175  4.591483  4.484293  4.351463   \n",
       "500284 -694.268372  2.090834  2.086926  2.080427  2.071359  2.059744   \n",
       "500285 -692.471741  4.618038  4.574526  4.505244  4.414803  4.309120   \n",
       "\n",
       "           mfcc6     mfcc7     mfcc8     mfcc9  ...    mfcc17    mfcc18  \\\n",
       "0       0.000000  0.000000  0.000000  0.000000  ...  0.000000  0.000000   \n",
       "1       0.000000  0.000000  0.000000  0.000000  ...  0.000000  0.000000   \n",
       "2       0.000000  0.000000  0.000000  0.000000  ...  0.000000  0.000000   \n",
       "3       0.000000  0.000000  0.000000  0.000000  ...  0.000000  0.000000   \n",
       "4       0.000000  0.000000  0.000000  0.000000  ...  0.000000  0.000000   \n",
       "...          ...       ...       ...       ...  ...       ...       ...   \n",
       "500281  2.910077  2.871416  2.828496  2.781949  ...  2.363167  2.314736   \n",
       "500282  4.432867  4.134216  3.829843  3.530532  ...  1.933901  1.835087   \n",
       "500283  4.196495  4.023423  3.836677  3.640923  ...  2.273795  2.175476   \n",
       "500284  2.045627  2.029049  2.010061  1.988727  ...  1.742835  1.704102   \n",
       "500285  4.195020  4.079656  3.969994  3.872242  ...  3.752502  3.779414   \n",
       "\n",
       "          mfcc19  ID_ACTOR_GENDER  ID_EMOTION  ID_EMOTION_INTENSITY  \\\n",
       "0       0.000000               01          01                    01   \n",
       "1       0.000000               01          01                    01   \n",
       "2       0.000000               01          01                    01   \n",
       "3       0.000000               01          01                    01   \n",
       "4       0.000000               01          01                    01   \n",
       "...          ...              ...         ...                   ...   \n",
       "500281  2.268862               24          08                    02   \n",
       "500282  1.751647               24          08                    02   \n",
       "500283  2.097934               24          08                    02   \n",
       "500284  1.663948               24          08                    02   \n",
       "500285  3.796019               24          08                    02   \n",
       "\n",
       "        LABEL_GENDER  LABEL_EMOTION  LABEL_INTENSITY  LABEL_GENDER_EMOTION  \n",
       "0               male        neutral           normal          male_neutral  \n",
       "1               male        neutral           normal          male_neutral  \n",
       "2               male        neutral           normal          male_neutral  \n",
       "3               male        neutral           normal          male_neutral  \n",
       "4               male        neutral           normal          male_neutral  \n",
       "...              ...            ...              ...                   ...  \n",
       "500281        female      surprised           strong      female_surprised  \n",
       "500282        female      surprised           strong      female_surprised  \n",
       "500283        female      surprised           strong      female_surprised  \n",
       "500284        female      surprised           strong      female_surprised  \n",
       "500285        female      surprised           strong      female_surprised  \n",
       "\n",
       "[500286 rows x 27 columns]"
      ]
     },
     "execution_count": 18,
     "metadata": {},
     "output_type": "execute_result"
    }
   ],
   "source": [
    "df_final"
   ]
  },
  {
   "cell_type": "code",
   "execution_count": 19,
   "metadata": {},
   "outputs": [
    {
     "data": {
      "text/plain": [
       "mfcc0                   float32\n",
       "mfcc1                   float32\n",
       "mfcc2                   float32\n",
       "mfcc3                   float32\n",
       "mfcc4                   float32\n",
       "mfcc5                   float32\n",
       "mfcc6                   float32\n",
       "mfcc7                   float32\n",
       "mfcc8                   float32\n",
       "mfcc9                   float32\n",
       "mfcc10                  float32\n",
       "mfcc11                  float32\n",
       "mfcc12                  float32\n",
       "mfcc13                  float32\n",
       "mfcc14                  float32\n",
       "mfcc15                  float32\n",
       "mfcc16                  float32\n",
       "mfcc17                  float32\n",
       "mfcc18                  float32\n",
       "mfcc19                  float32\n",
       "ID_ACTOR_GENDER          object\n",
       "ID_EMOTION               object\n",
       "ID_EMOTION_INTENSITY     object\n",
       "LABEL_GENDER             object\n",
       "LABEL_EMOTION            object\n",
       "LABEL_INTENSITY          object\n",
       "LABEL_GENDER_EMOTION     object\n",
       "dtype: object"
      ]
     },
     "execution_count": 19,
     "metadata": {},
     "output_type": "execute_result"
    }
   ],
   "source": [
    "df_final.dtypes"
   ]
  },
  {
   "cell_type": "markdown",
   "metadata": {},
   "source": [
    "# Exploratory Analysis"
   ]
  },
  {
   "cell_type": "code",
   "execution_count": 20,
   "metadata": {},
   "outputs": [
    {
     "data": {
      "text/plain": [
       "<matplotlib.axes._subplots.AxesSubplot at 0x1510eb34948>"
      ]
     },
     "execution_count": 20,
     "metadata": {},
     "output_type": "execute_result"
    },
    {
     "data": {
      "image/png": "[encoded data removed]",
      "text/plain": [
       "<Figure size 432x288 with 1 Axes>"
      ]
     },
     "metadata": {
      "needs_background": "light"
     },
     "output_type": "display_data"
    }
   ],
   "source": [
    "# Dataset balance by gender\n",
    "sns.countplot(x = 'LABEL_GENDER', data = df_final)"
   ]
  },
  {
   "cell_type": "code",
   "execution_count": 21,
   "metadata": {},
   "outputs": [
    {
     "data": {
      "text/plain": [
       "<matplotlib.axes._subplots.AxesSubplot at 0x1510ea85a08>"
      ]
     },
     "execution_count": 21,
     "metadata": {},
     "output_type": "execute_result"
    },
    {
     "data": {
      "image/png": "[encoded data removed]",
      "text/plain": [
       "<Figure size 432x288 with 1 Axes>"
      ]
     },
     "metadata": {
      "needs_background": "light"
     },
     "output_type": "display_data"
    }
   ],
   "source": [
    "# Dataset balance by emotion\n",
    "sns.countplot(x = 'LABEL_EMOTION', data = df_final)"
   ]
  },
  {
   "cell_type": "code",
   "execution_count": 22,
   "metadata": {},
   "outputs": [
    {
     "data": {
      "text/plain": [
       "(array([ 0,  1,  2,  3,  4,  5,  6,  7,  8,  9, 10, 11, 12, 13, 14, 15]),\n",
       " <a list of 16 Text major ticklabel objects>)"
      ]
     },
     "execution_count": 22,
     "metadata": {},
     "output_type": "execute_result"
    },
    {
     "data": {
      "image/png": "[encoded data removed]",
      "text/plain": [
       "<Figure size 864x288 with 1 Axes>"
      ]
     },
     "metadata": {
      "needs_background": "light"
     },
     "output_type": "display_data"
    }
   ],
   "source": [
    "# Dataset balance by gender + emotion\n",
    "plt.figure(figsize = (12,4))\n",
    "sns.countplot(x = 'LABEL_GENDER_EMOTION', data = df_final)\n",
    "plt.xticks(rotation = 45)"
   ]
  },
  {
   "cell_type": "markdown",
   "metadata": {},
   "source": [
    "# Machine Learning"
   ]
  },
  {
   "cell_type": "markdown",
   "metadata": {},
   "source": [
    "## Model 1 - Predict Gender"
   ]
  },
  {
   "cell_type": "code",
   "execution_count": 23,
   "metadata": {},
   "outputs": [],
   "source": [
    "# Getting X values\n",
    "x1 = df_final[df_final.columns[:-7]].values"
   ]
  },
  {
   "cell_type": "code",
   "execution_count": 24,
   "metadata": {},
   "outputs": [],
   "source": [
    "# Using Label Encoder to codify the genders\n",
    "y1 = LabelEncoder().fit_transform(df_final['LABEL_GENDER'])"
   ]
  },
  {
   "cell_type": "code",
   "execution_count": 25,
   "metadata": {},
   "outputs": [],
   "source": [
    "# Train test split\n",
    "x1_train, x1_test, y1_train, y1_test = train_test_split(x1, y1, test_size = 0.33, stratify = y1, shuffle = True)"
   ]
  },
  {
   "cell_type": "code",
   "execution_count": 26,
   "metadata": {},
   "outputs": [],
   "source": [
    "# Scale the training data\n",
    "z_scaler = StandardScaler()\n",
    "\n",
    "# First fit the scaler on the train dataset\n",
    "fitted = z_scaler.fit(x1_train)\n",
    "\n",
    "# Then transform both train and test data\n",
    "x1_train = fitted.transform(x1_train)\n",
    "x1_test = fitted.transform(x1_test)"
   ]
  },
  {
   "cell_type": "code",
   "execution_count": 27,
   "metadata": {},
   "outputs": [],
   "source": [
    "# Creating a dictionary with ML algorithms to be used\n",
    "classifiers = {'XGboost':XGBClassifier(),\n",
    "               'DecisonTree':DecisionTreeClassifier(),\n",
    "               'RandomForest':RandomForestClassifier()}"
   ]
  },
  {
   "cell_type": "code",
   "execution_count": 28,
   "metadata": {},
   "outputs": [],
   "source": [
    "# Function to train each classifier and evaluate performance\n",
    "def train_evaluate_gender(classifiers, x_train, x_test, y_train, y_test):\n",
    "    \n",
    "    # Loop through the classifiers dictionary\n",
    "    for k, clf in classifiers.items():\n",
    "        \n",
    "        print(\"\\nStarting training for model \" + k + '...')\n",
    "        \n",
    "        # Train model\n",
    "        clf.fit(x_train, y_train)\n",
    "        \n",
    "        # Predict\n",
    "        y_pred = clf.predict(x_test)\n",
    "        \n",
    "        # Calculate accuracy\n",
    "        acc = accuracy_score(y_test, y_pred)\n",
    "        print(f'\\nClassifier {k} has accuracy: {acc}')\n",
    "        \n",
    "        # Create Confusion Matrix\n",
    "        cm = confusion_matrix(y_test, y_pred)\n",
    "        print(f'\\nConfusion Matrix')\n",
    "        print(cm)\n",
    "        \n",
    "        # Save model to disk\n",
    "        dump(clf, 'models/model_' + k + '_gender.joblib')\n",
    "        print('\\nModel ' + k + ' saved to disk')"
   ]
  },
  {
   "cell_type": "code",
   "execution_count": 29,
   "metadata": {},
   "outputs": [
    {
     "name": "stdout",
     "output_type": "stream",
     "text": [
      "\n",
      "Starting training for model XGboost...\n",
      "\n",
      "Classifier XGboost has accuracy: 0.7899633544322966\n",
      "\n",
      "Confusion Matrix\n",
      "[[67804 15825]\n",
      " [18851 62615]]\n",
      "\n",
      "Model XGboost saved to disk\n",
      "\n",
      "Starting training for model DecisonTree...\n",
      "\n",
      "Classifier DecisonTree has accuracy: 0.8299463945001363\n",
      "\n",
      "Confusion Matrix\n",
      "[[69716 13913]\n",
      " [14162 67304]]\n",
      "\n",
      "Model DecisonTree saved to disk\n",
      "\n",
      "Starting training for model RandomForest...\n",
      "\n",
      "Classifier RandomForest has accuracy: 0.889487870619946\n",
      "\n",
      "Confusion Matrix\n",
      "[[73615 10014]\n",
      " [ 8231 73235]]\n",
      "\n",
      "Model RandomForest saved to disk\n",
      "\n",
      "Training finished!\n",
      "Wall time: 5min 56s\n"
     ]
    }
   ],
   "source": [
    "%%time\n",
    "\n",
    "# Run the function to test all algorithms\n",
    "train_evaluate_gender(classifiers, x1_train, x1_test, y1_train, y1_test)\n",
    "\n",
    "print('\\nTraining finished!')"
   ]
  },
  {
   "cell_type": "markdown",
   "metadata": {},
   "source": [
    "## Model 2 - Predict Gender and Emotion"
   ]
  },
  {
   "cell_type": "code",
   "execution_count": 30,
   "metadata": {},
   "outputs": [],
   "source": [
    "# Getting X values\n",
    "x2 = df_final[df_final.columns[:-7]].values"
   ]
  },
  {
   "cell_type": "code",
   "execution_count": 31,
   "metadata": {},
   "outputs": [],
   "source": [
    "# Using Label Encoder to codify the genders\n",
    "y2 = LabelEncoder().fit_transform(df_final['LABEL_GENDER_EMOTION'])"
   ]
  },
  {
   "cell_type": "code",
   "execution_count": 32,
   "metadata": {},
   "outputs": [],
   "source": [
    "# Train test split\n",
    "x2_train, x2_test, y2_train, y2_test = train_test_split(x2, y2, test_size = 0.33, stratify = y2, shuffle = True)"
   ]
  },
  {
   "cell_type": "code",
   "execution_count": 33,
   "metadata": {},
   "outputs": [],
   "source": [
    "# Scale the training data\n",
    "z_scaler = StandardScaler()\n",
    "\n",
    "# First fit the scaler on the train dataset\n",
    "fitted2 = z_scaler.fit(x2_train)\n",
    "\n",
    "# Then transform both train and test data\n",
    "x2_train = fitted.transform(x2_train)\n",
    "x2_test = fitted.transform(x2_test)"
   ]
  },
  {
   "cell_type": "code",
   "execution_count": 34,
   "metadata": {},
   "outputs": [],
   "source": [
    "# Function to train each classifier and evaluate performance\n",
    "def train_evaluate_gender_emotion(classifiers, x_train, x_test, y_train, y_test):\n",
    "    \n",
    "    # Loop through the classifiers dictionary\n",
    "    for k, clf in classifiers.items():\n",
    "        \n",
    "        print(\"\\nStarting training for model \" + k + '...')\n",
    "        \n",
    "        # Train model\n",
    "        clf.fit(x_train, y_train)\n",
    "        \n",
    "        # Predict\n",
    "        y_pred = clf.predict(x_test)\n",
    "        \n",
    "        # Calculate accuracy\n",
    "        acc = accuracy_score(y_test, y_pred)\n",
    "        print(f'\\nClassifier {k} has accuracy: {acc}')\n",
    "        \n",
    "        # Create Confusion Matrix\n",
    "        cm = confusion_matrix(y_test, y_pred)\n",
    "        print(f'\\nConfusion Matrix')\n",
    "        print(cm)\n",
    "        \n",
    "        # Save model to disk\n",
    "        dump(clf, 'models/model_' + k + '_gender_emotion.joblib')\n",
    "        print('\\nModel ' + k + ' saved to disk')"
   ]
  },
  {
   "cell_type": "code",
   "execution_count": 35,
   "metadata": {},
   "outputs": [
    {
     "name": "stdout",
     "output_type": "stream",
     "text": [
      "\n",
      "Starting training for model XGboost...\n",
      "\n",
      "Classifier XGboost has accuracy: 0.2822193282655441\n",
      "\n",
      "Confusion Matrix\n",
      "[[4313  353  928 1059  888    5  335  987 1440   42  212  422  223    3\n",
      "    68  404]\n",
      " [  94 7587  556   99   63   47  920  134   32 1083  177   74   57   13\n",
      "   167  157]\n",
      " [1098 1794 2554  740  839   31 1036 1763   83  530  345  175  279   30\n",
      "   192  440]\n",
      " [2066 1080  602 2870  806   19  514 1023  647   68  100  479  142    3\n",
      "    82  380]\n",
      " [1911  888  917 1307 2157    8  850 1117  457  253  202  364  107   17\n",
      "    85  281]\n",
      " [  49 2718  391   46   55  144  656  158   11  610  123   23   21   13\n",
      "   105  149]\n",
      " [ 665 3512 1044  751  450   36 2238  587   35  623  260  150  160   10\n",
      "   253  372]\n",
      " [1010 1064 1044  797  923   18  820 2937  209  118  191  264  178    2\n",
      "   127  835]\n",
      " [1182  143  132  305  394    0  111  486 5005  418  567  642  628   10\n",
      "   373  948]\n",
      " [   9 1382   85   78   15   10  242   96   38 7317  585   63  185   83\n",
      "   933  196]\n",
      " [ 493  954  500  235  135    5  420  619  446 2099 2157  538  667   49\n",
      "   963 1236]\n",
      " [ 735  349  266  555  166    5  411  545 1462 1208  722 1748  829   29\n",
      "   739  614]\n",
      " [ 782  319  326  335  338    4  201  704  902 1355  823  896 1711   82\n",
      "   902 1042]\n",
      " [   3  557  124    4    8    3  127  135   28 2441  276   20  172  135\n",
      "   845  268]\n",
      " [ 146 1441  268  104  145    7  326  285  254 3382  647  553  555   58\n",
      "  1843  815]\n",
      " [ 561  559  445  233  323    5  175  997  522 1316  883  591  861   79\n",
      "   783 1877]]\n",
      "\n",
      "Model XGboost saved to disk\n",
      "\n",
      "Starting training for model DecisonTree...\n",
      "\n",
      "Classifier DecisonTree has accuracy: 0.48235864199400347\n",
      "\n",
      "Confusion Matrix\n",
      "[[6628  132  611  754  683   66  318  636  479   50  263  328  296   29\n",
      "   135  274]\n",
      " [ 137 6176  506  260  271  755  967  330   70  421  307  157  154  177\n",
      "   381  191]\n",
      " [ 579  468 5780  567  639  332  772  661  193  188  418  243  317  120\n",
      "   314  338]\n",
      " [ 722  280  587 5672  703  149  545  583  310   74  246  347  267   23\n",
      "   165  208]\n",
      " [ 684  249  633  761 5738  193  533  643  225  109  214  262  250   61\n",
      "   143  223]\n",
      " [  87  738  285  128  154 2217  431  193   47  210  174   76  131   91\n",
      "   202  108]\n",
      " [ 339  985  727  491  552  433 5151  515  120  288  323  253  235  144\n",
      "   349  241]\n",
      " [ 586  276  762  582  680  198  546 5146  209   76  300  302  303   59\n",
      "   210  302]\n",
      " [ 498   58  180  313  224   40   95  191 6789  170  507  767  567  110\n",
      "   317  518]\n",
      " [  46  406  200   61  117  229  311  104  138 5761  720  441  476  736\n",
      "  1121  450]\n",
      " [ 301  304  405  201  232  168  348  255  479  716 4821  688  705  386\n",
      "   765  742]\n",
      " [ 331  135  294  345  268   68  240  259  810  370  680 4374  698  244\n",
      "   627  640]\n",
      " [ 314  147  289  264  236  104  227  307  604  476  692  671 4665  268\n",
      "   623  835]\n",
      " [  30  141  131   35   71   98  146   54   98  717  376  217  290 1944\n",
      "   511  287]\n",
      " [ 131  411  292  158  144  204  288  175  293 1140  794  660  645  555\n",
      "  4343  596]\n",
      " [ 260  159  314  243  214  104  223  293  537  421  709  619  797  320\n",
      "   567 4430]]\n",
      "\n",
      "Model DecisonTree saved to disk\n",
      "\n",
      "Starting training for model RandomForest...\n",
      "\n",
      "Classifier RandomForest has accuracy: 0.6513037947848208\n",
      "\n",
      "Confusion Matrix\n",
      "[[8424  128  502  428  343   22  156  421  473   26  173  176  184   10\n",
      "    62  154]\n",
      " [  23 9428  162   54   74  160  394   69   10  443  111   24   41   46\n",
      "   166   55]\n",
      " [ 331  591 8219  231  339   77  474  462   77  205  241  111  198   57\n",
      "   138  178]\n",
      " [ 478  427  480 7383  340   52  281  399  275   45  149  229  140   10\n",
      "    50  143]\n",
      " [ 506  336  491  516 7275   22  323  413  202  139  159  152  160   47\n",
      "    52  128]\n",
      " [  20 1298  160   45   64 2587  334   86   11  253  124   27   45   41\n",
      "   130   47]\n",
      " [ 146 1417  540  306  276  121 6920  249   52  341  244   88  138   55\n",
      "   157   96]\n",
      " [ 447  400  718  401  478   49  358 6522  183   59  233  153  178   17\n",
      "   106  235]\n",
      " [ 295   33  102  159   89    6   43  132 8446  199  476  349  397   35\n",
      "   210  373]\n",
      " [   5  308   76   15   23   89  120   26   17 9231  377   72  141  215\n",
      "   502  100]\n",
      " [ 163  216  238  106   81   55  175  190  303  951 7001  362  491  113\n",
      "   512  559]\n",
      " [ 199  109  206  206  124   15  125  137  784  584  623 5870  482  110\n",
      "   424  385]\n",
      " [ 206   91  197  122  127   25  127  226  496  678  582  427 6348  130\n",
      "   387  553]\n",
      " [   9  125   70   15   14   31   77   41   19 1292  278   87  179 2297\n",
      "   484  128]\n",
      " [  74  341  165   69   60   85  119  123  170 1732  554  313  386  217\n",
      "  6069  352]\n",
      " [ 154  109  208  133  110   25  110  260  361  629  722  416  769  162\n",
      "   535 5507]]\n",
      "\n",
      "Model RandomForest saved to disk\n",
      "\n",
      "Training finished!\n",
      "Wall time: 29min 27s\n"
     ]
    }
   ],
   "source": [
    "%%time\n",
    "\n",
    "# Run the function to test all algorithms\n",
    "train_evaluate_gender_emotion(classifiers, x2_train, x2_test, y2_train, y2_test)\n",
    "\n",
    "print('\\nTraining finished!')"
   ]
  },
  {
   "cell_type": "markdown",
   "metadata": {},
   "source": [
    "## Model 3 - Predict Gender Using PCA"
   ]
  },
  {
   "cell_type": "code",
   "execution_count": 36,
   "metadata": {},
   "outputs": [],
   "source": [
    "# Create a PCA object with 20 components\n",
    "pca_20 = PCA(n_components = 20)"
   ]
  },
  {
   "cell_type": "code",
   "execution_count": 37,
   "metadata": {},
   "outputs": [
    {
     "data": {
      "text/plain": [
       "(335191, 20)"
      ]
     },
     "execution_count": 37,
     "metadata": {},
     "output_type": "execute_result"
    }
   ],
   "source": [
    "# Using the x/y data from model 1, since it was also for gender prediction\n",
    "x1_train.shape"
   ]
  },
  {
   "cell_type": "code",
   "execution_count": 39,
   "metadata": {},
   "outputs": [],
   "source": [
    "# Applying PCA to the training data\n",
    "pca_feature = pca_20.fit(x1_train)"
   ]
  },
  {
   "cell_type": "code",
   "execution_count": 40,
   "metadata": {},
   "outputs": [
    {
     "data": {
      "text/plain": [
       "PCA(n_components=20)"
      ]
     },
     "execution_count": 40,
     "metadata": {},
     "output_type": "execute_result"
    }
   ],
   "source": [
    "pca_feature"
   ]
  },
  {
   "cell_type": "code",
   "execution_count": 41,
   "metadata": {},
   "outputs": [
    {
     "data": {
      "text/plain": [
       "([<matplotlib.axis.XTick at 0x1510eb54b48>,\n",
       "  <matplotlib.axis.XTick at 0x1510eb54a48>,\n",
       "  <matplotlib.axis.XTick at 0x1510ea9fcc8>,\n",
       "  <matplotlib.axis.XTick at 0x15112c364c8>,\n",
       "  <matplotlib.axis.XTick at 0x15112c36a48>,\n",
       "  <matplotlib.axis.XTick at 0x15112c33788>,\n",
       "  <matplotlib.axis.XTick at 0x15112c28e48>,\n",
       "  <matplotlib.axis.XTick at 0x15112c282c8>,\n",
       "  <matplotlib.axis.XTick at 0x15112c27e08>,\n",
       "  <matplotlib.axis.XTick at 0x15112c27f88>,\n",
       "  <matplotlib.axis.XTick at 0x15112c28d88>,\n",
       "  <matplotlib.axis.XTick at 0x15112c36b48>,\n",
       "  <matplotlib.axis.XTick at 0x15112c29dc8>,\n",
       "  <matplotlib.axis.XTick at 0x15112c25948>,\n",
       "  <matplotlib.axis.XTick at 0x15112c1fe48>,\n",
       "  <matplotlib.axis.XTick at 0x15112c1f4c8>,\n",
       "  <matplotlib.axis.XTick at 0x15112c1eb88>,\n",
       "  <matplotlib.axis.XTick at 0x15112c15e88>,\n",
       "  <matplotlib.axis.XTick at 0x15112c153c8>,\n",
       "  <matplotlib.axis.XTick at 0x15112c14b08>],\n",
       " <a list of 20 Text major ticklabel objects>)"
      ]
     },
     "execution_count": 41,
     "metadata": {},
     "output_type": "execute_result"
    },
    {
     "data": {
      "image/png": "[encoded data removed]",
      "text/plain": [
       "<Figure size 864x288 with 1 Axes>"
      ]
     },
     "metadata": {
      "needs_background": "light"
     },
     "output_type": "display_data"
    }
   ],
   "source": [
    "# Plot\n",
    "plt.figure(figsize = (12, 4))\n",
    "plt.plot(pca_feature.explained_variance_ratio_, marker = 'o', label = 'Explained Variance Rate')\n",
    "plt.plot(pca_feature.explained_variance_ratio_.cumsum(), marker = 'o', label = 'Cumulative Explained Variance Rate')\n",
    "plt.legend()\n",
    "plt.ylabel('Variance')\n",
    "plt.xlabel('Number of Principal Components')\n",
    "plt.title('Variance vs Number of Principal Components')\n",
    "plt.xticks(np.arange(0, 20, step = 1))"
   ]
  },
  {
   "cell_type": "markdown",
   "metadata": {},
   "source": [
    "The plot (orange line) shows that 15 components explain over 95% of the variance on the data, thus I'll use only 15 compoenents instead of the initial 20."
   ]
  },
  {
   "cell_type": "code",
   "execution_count": 42,
   "metadata": {},
   "outputs": [],
   "source": [
    "# Saving the components\n",
    "components = pca_feature.fit_transform(x1_train)"
   ]
  },
  {
   "cell_type": "code",
   "execution_count": 43,
   "metadata": {},
   "outputs": [
    {
     "data": {
      "text/plain": [
       "array([[ 0.81793505,  2.2289948 ,  6.551832  , ...,  0.7566632 ,\n",
       "         1.2090428 , -0.55567753],\n",
       "       [-0.406427  , -3.8125827 ,  0.01774758, ..., -0.41411147,\n",
       "         0.5542691 , -0.3927645 ],\n",
       "       [-1.6900054 , -0.26272348, -0.10464392, ...,  0.20780295,\n",
       "        -0.09791111,  0.17072834],\n",
       "       ...,\n",
       "       [-2.2944653 , -0.7926662 , -1.0375288 , ...,  0.08214777,\n",
       "        -0.09014749,  0.46862382],\n",
       "       [-1.5170457 ,  0.3078449 , -0.2936892 , ...,  0.10762074,\n",
       "         0.01201031, -0.10196748],\n",
       "       [ 0.74866325,  1.5854828 , -0.6777546 , ..., -0.4836019 ,\n",
       "        -0.3262427 , -0.14921625]], dtype=float32)"
      ]
     },
     "execution_count": 43,
     "metadata": {},
     "output_type": "execute_result"
    }
   ],
   "source": [
    "# Visualize\n",
    "components"
   ]
  },
  {
   "cell_type": "code",
   "execution_count": 44,
   "metadata": {},
   "outputs": [
    {
     "data": {
      "text/plain": [
       "numpy.ndarray"
      ]
     },
     "execution_count": 44,
     "metadata": {},
     "output_type": "execute_result"
    }
   ],
   "source": [
    "# Check type\n",
    "type(components)"
   ]
  },
  {
   "cell_type": "code",
   "execution_count": 45,
   "metadata": {},
   "outputs": [],
   "source": [
    "# Converting the array to dataframe\n",
    "components_df = pd.DataFrame(components)"
   ]
  },
  {
   "cell_type": "code",
   "execution_count": 46,
   "metadata": {},
   "outputs": [],
   "source": [
    "# Adjusting index\n",
    "components_df.index = pd.RangeIndex(start = 0, stop = len(components_df.index), step = 1)"
   ]
  },
  {
   "cell_type": "code",
   "execution_count": 47,
   "metadata": {},
   "outputs": [
    {
     "data": {
      "text/html": [
       "<div>\n",
       "<style scoped>\n",
       "    .dataframe tbody tr th:only-of-type {\n",
       "        vertical-align: middle;\n",
       "    }\n",
       "\n",
       "    .dataframe tbody tr th {\n",
       "        vertical-align: top;\n",
       "    }\n",
       "\n",
       "    .dataframe thead th {\n",
       "        text-align: right;\n",
       "    }\n",
       "</style>\n",
       "<table border=\"1\" class=\"dataframe\">\n",
       "  <thead>\n",
       "    <tr style=\"text-align: right;\">\n",
       "      <th></th>\n",
       "      <th>0</th>\n",
       "      <th>1</th>\n",
       "      <th>2</th>\n",
       "      <th>3</th>\n",
       "      <th>4</th>\n",
       "      <th>5</th>\n",
       "      <th>6</th>\n",
       "      <th>7</th>\n",
       "      <th>8</th>\n",
       "      <th>9</th>\n",
       "      <th>10</th>\n",
       "      <th>11</th>\n",
       "      <th>12</th>\n",
       "      <th>13</th>\n",
       "      <th>14</th>\n",
       "      <th>15</th>\n",
       "      <th>16</th>\n",
       "      <th>17</th>\n",
       "      <th>18</th>\n",
       "      <th>19</th>\n",
       "    </tr>\n",
       "  </thead>\n",
       "  <tbody>\n",
       "    <tr>\n",
       "      <th>0</th>\n",
       "      <td>0.817935</td>\n",
       "      <td>2.228995</td>\n",
       "      <td>6.551832</td>\n",
       "      <td>0.919350</td>\n",
       "      <td>-1.157539</td>\n",
       "      <td>-2.351449</td>\n",
       "      <td>1.184773</td>\n",
       "      <td>1.623234</td>\n",
       "      <td>0.657935</td>\n",
       "      <td>-2.205470</td>\n",
       "      <td>-0.191457</td>\n",
       "      <td>0.061119</td>\n",
       "      <td>-1.102526</td>\n",
       "      <td>-0.151148</td>\n",
       "      <td>-1.937881</td>\n",
       "      <td>-0.743959</td>\n",
       "      <td>-0.989330</td>\n",
       "      <td>0.756663</td>\n",
       "      <td>1.209043</td>\n",
       "      <td>-0.555678</td>\n",
       "    </tr>\n",
       "    <tr>\n",
       "      <th>1</th>\n",
       "      <td>-0.406427</td>\n",
       "      <td>-3.812583</td>\n",
       "      <td>0.017748</td>\n",
       "      <td>-0.988423</td>\n",
       "      <td>0.166966</td>\n",
       "      <td>-0.300564</td>\n",
       "      <td>-0.527874</td>\n",
       "      <td>1.114727</td>\n",
       "      <td>0.379517</td>\n",
       "      <td>-0.959077</td>\n",
       "      <td>0.783221</td>\n",
       "      <td>-0.439352</td>\n",
       "      <td>-0.050427</td>\n",
       "      <td>0.330571</td>\n",
       "      <td>0.413873</td>\n",
       "      <td>0.398849</td>\n",
       "      <td>0.401881</td>\n",
       "      <td>-0.414111</td>\n",
       "      <td>0.554269</td>\n",
       "      <td>-0.392765</td>\n",
       "    </tr>\n",
       "    <tr>\n",
       "      <th>2</th>\n",
       "      <td>-1.690005</td>\n",
       "      <td>-0.262723</td>\n",
       "      <td>-0.104644</td>\n",
       "      <td>-0.741844</td>\n",
       "      <td>0.059906</td>\n",
       "      <td>1.094772</td>\n",
       "      <td>-0.471815</td>\n",
       "      <td>-0.135232</td>\n",
       "      <td>0.029346</td>\n",
       "      <td>-1.054106</td>\n",
       "      <td>0.362792</td>\n",
       "      <td>-0.680469</td>\n",
       "      <td>-0.535968</td>\n",
       "      <td>0.015750</td>\n",
       "      <td>-0.052635</td>\n",
       "      <td>-0.473981</td>\n",
       "      <td>0.013689</td>\n",
       "      <td>0.207803</td>\n",
       "      <td>-0.097911</td>\n",
       "      <td>0.170728</td>\n",
       "    </tr>\n",
       "    <tr>\n",
       "      <th>3</th>\n",
       "      <td>-2.169122</td>\n",
       "      <td>0.356323</td>\n",
       "      <td>-0.581886</td>\n",
       "      <td>0.061808</td>\n",
       "      <td>-0.007264</td>\n",
       "      <td>-0.296470</td>\n",
       "      <td>-0.004363</td>\n",
       "      <td>-0.224322</td>\n",
       "      <td>0.181942</td>\n",
       "      <td>0.377460</td>\n",
       "      <td>-0.008394</td>\n",
       "      <td>0.583931</td>\n",
       "      <td>0.728293</td>\n",
       "      <td>-0.252462</td>\n",
       "      <td>-0.133282</td>\n",
       "      <td>0.010115</td>\n",
       "      <td>-0.112256</td>\n",
       "      <td>0.037229</td>\n",
       "      <td>0.023215</td>\n",
       "      <td>0.079963</td>\n",
       "    </tr>\n",
       "    <tr>\n",
       "      <th>4</th>\n",
       "      <td>4.793149</td>\n",
       "      <td>0.911040</td>\n",
       "      <td>-0.500708</td>\n",
       "      <td>0.387858</td>\n",
       "      <td>-1.655834</td>\n",
       "      <td>2.818822</td>\n",
       "      <td>-0.676771</td>\n",
       "      <td>-0.806656</td>\n",
       "      <td>1.783190</td>\n",
       "      <td>1.705665</td>\n",
       "      <td>0.195869</td>\n",
       "      <td>0.802911</td>\n",
       "      <td>-4.034620</td>\n",
       "      <td>-2.135656</td>\n",
       "      <td>1.371211</td>\n",
       "      <td>-0.161348</td>\n",
       "      <td>-1.030812</td>\n",
       "      <td>-0.592246</td>\n",
       "      <td>0.279889</td>\n",
       "      <td>-0.230941</td>\n",
       "    </tr>\n",
       "  </tbody>\n",
       "</table>\n",
       "</div>"
      ],
      "text/plain": [
       "          0         1         2         3         4         5         6  \\\n",
       "0  0.817935  2.228995  6.551832  0.919350 -1.157539 -2.351449  1.184773   \n",
       "1 -0.406427 -3.812583  0.017748 -0.988423  0.166966 -0.300564 -0.527874   \n",
       "2 -1.690005 -0.262723 -0.104644 -0.741844  0.059906  1.094772 -0.471815   \n",
       "3 -2.169122  0.356323 -0.581886  0.061808 -0.007264 -0.296470 -0.004363   \n",
       "4  4.793149  0.911040 -0.500708  0.387858 -1.655834  2.818822 -0.676771   \n",
       "\n",
       "          7         8         9        10        11        12        13  \\\n",
       "0  1.623234  0.657935 -2.205470 -0.191457  0.061119 -1.102526 -0.151148   \n",
       "1  1.114727  0.379517 -0.959077  0.783221 -0.439352 -0.050427  0.330571   \n",
       "2 -0.135232  0.029346 -1.054106  0.362792 -0.680469 -0.535968  0.015750   \n",
       "3 -0.224322  0.181942  0.377460 -0.008394  0.583931  0.728293 -0.252462   \n",
       "4 -0.806656  1.783190  1.705665  0.195869  0.802911 -4.034620 -2.135656   \n",
       "\n",
       "         14        15        16        17        18        19  \n",
       "0 -1.937881 -0.743959 -0.989330  0.756663  1.209043 -0.555678  \n",
       "1  0.413873  0.398849  0.401881 -0.414111  0.554269 -0.392765  \n",
       "2 -0.052635 -0.473981  0.013689  0.207803 -0.097911  0.170728  \n",
       "3 -0.133282  0.010115 -0.112256  0.037229  0.023215  0.079963  \n",
       "4  1.371211 -0.161348 -1.030812 -0.592246  0.279889 -0.230941  "
      ]
     },
     "execution_count": 47,
     "metadata": {},
     "output_type": "execute_result"
    }
   ],
   "source": [
    "# View\n",
    "components_df.head()"
   ]
  },
  {
   "cell_type": "code",
   "execution_count": 48,
   "metadata": {},
   "outputs": [],
   "source": [
    "# Extracting the top 15 components\n",
    "x_train_pca = components_df[components_df.columns[0:15]].values"
   ]
  },
  {
   "cell_type": "code",
   "execution_count": 49,
   "metadata": {},
   "outputs": [],
   "source": [
    "# Setting y\n",
    "y_train_pca = y1_train"
   ]
  },
  {
   "cell_type": "code",
   "execution_count": 50,
   "metadata": {},
   "outputs": [],
   "source": [
    "# For test data, using from model 1\n",
    "x_test_pca = x1_test\n",
    "y_test_pca = y1_test"
   ]
  },
  {
   "cell_type": "code",
   "execution_count": 51,
   "metadata": {},
   "outputs": [
    {
     "data": {
      "text/plain": [
       "335191"
      ]
     },
     "execution_count": 51,
     "metadata": {},
     "output_type": "execute_result"
    }
   ],
   "source": [
    "len(x_train_pca)"
   ]
  },
  {
   "cell_type": "code",
   "execution_count": 52,
   "metadata": {},
   "outputs": [
    {
     "data": {
      "text/plain": [
       "335191"
      ]
     },
     "execution_count": 52,
     "metadata": {},
     "output_type": "execute_result"
    }
   ],
   "source": [
    "len(y_train_pca)"
   ]
  },
  {
   "cell_type": "code",
   "execution_count": 53,
   "metadata": {},
   "outputs": [
    {
     "data": {
      "text/plain": [
       "165095"
      ]
     },
     "execution_count": 53,
     "metadata": {},
     "output_type": "execute_result"
    }
   ],
   "source": [
    "len(x_test_pca)"
   ]
  },
  {
   "cell_type": "code",
   "execution_count": 54,
   "metadata": {},
   "outputs": [
    {
     "data": {
      "text/plain": [
       "165095"
      ]
     },
     "execution_count": 54,
     "metadata": {},
     "output_type": "execute_result"
    }
   ],
   "source": [
    "len(y_test_pca)"
   ]
  },
  {
   "cell_type": "code",
   "execution_count": 55,
   "metadata": {},
   "outputs": [],
   "source": [
    "# Function to train each classifier and evaluate performance\n",
    "def train_evaluate_gender_pca(classifiers, x_train, x_test, y_train, y_test):\n",
    "    \n",
    "    # Loop through the classifiers dictionary\n",
    "    for k, clf in classifiers.items():\n",
    "        \n",
    "        print(\"\\nStarting training for model \" + k + '...')\n",
    "        \n",
    "        # Train model\n",
    "        clf.fit(x_train, y_train)\n",
    "        \n",
    "        # Predict\n",
    "        y_pred = clf.predict(x_test)\n",
    "        \n",
    "        # Calculate accuracy\n",
    "        acc = accuracy_score(y_test, y_pred)\n",
    "        print(f'\\nClassifier {k} has accuracy: {acc}')\n",
    "        \n",
    "        # Create Confusion Matrix\n",
    "        cm = confusion_matrix(y_test, y_pred)\n",
    "        print(f'\\nConfusion Matrix')\n",
    "        print(cm)\n",
    "        \n",
    "        # Save model to disk\n",
    "        dump(clf, 'models/model_' + k + '_gender_pca.joblib')\n",
    "        print('\\nModel ' + k + ' saved to disk')"
   ]
  },
  {
   "cell_type": "code",
   "execution_count": 56,
   "metadata": {},
   "outputs": [
    {
     "name": "stdout",
     "output_type": "stream",
     "text": [
      "\n",
      "Starting training for model XGboost...\n",
      "\n",
      "Classifier XGboost has accuracy: 0.2822193282655441\n",
      "\n",
      "Confusion Matrix\n",
      "[[4313  353  928 1059  888    5  335  987 1440   42  212  422  223    3\n",
      "    68  404]\n",
      " [  94 7587  556   99   63   47  920  134   32 1083  177   74   57   13\n",
      "   167  157]\n",
      " [1098 1794 2554  740  839   31 1036 1763   83  530  345  175  279   30\n",
      "   192  440]\n",
      " [2066 1080  602 2870  806   19  514 1023  647   68  100  479  142    3\n",
      "    82  380]\n",
      " [1911  888  917 1307 2157    8  850 1117  457  253  202  364  107   17\n",
      "    85  281]\n",
      " [  49 2718  391   46   55  144  656  158   11  610  123   23   21   13\n",
      "   105  149]\n",
      " [ 665 3512 1044  751  450   36 2238  587   35  623  260  150  160   10\n",
      "   253  372]\n",
      " [1010 1064 1044  797  923   18  820 2937  209  118  191  264  178    2\n",
      "   127  835]\n",
      " [1182  143  132  305  394    0  111  486 5005  418  567  642  628   10\n",
      "   373  948]\n",
      " [   9 1382   85   78   15   10  242   96   38 7317  585   63  185   83\n",
      "   933  196]\n",
      " [ 493  954  500  235  135    5  420  619  446 2099 2157  538  667   49\n",
      "   963 1236]\n",
      " [ 735  349  266  555  166    5  411  545 1462 1208  722 1748  829   29\n",
      "   739  614]\n",
      " [ 782  319  326  335  338    4  201  704  902 1355  823  896 1711   82\n",
      "   902 1042]\n",
      " [   3  557  124    4    8    3  127  135   28 2441  276   20  172  135\n",
      "   845  268]\n",
      " [ 146 1441  268  104  145    7  326  285  254 3382  647  553  555   58\n",
      "  1843  815]\n",
      " [ 561  559  445  233  323    5  175  997  522 1316  883  591  861   79\n",
      "   783 1877]]\n",
      "\n",
      "Model XGboost saved to disk\n",
      "\n",
      "Starting training for model DecisonTree...\n",
      "\n",
      "Classifier DecisonTree has accuracy: 0.4820860716557134\n",
      "\n",
      "Confusion Matrix\n",
      "[[6614  140  579  771  684   78  311  653  480   49  262  342  320   32\n",
      "   123  244]\n",
      " [ 156 6187  494  260  264  758  988  315   68  417  311  171  146  156\n",
      "   374  195]\n",
      " [ 577  505 5748  577  659  315  750  675  187  190  396  275  336  109\n",
      "   301  329]\n",
      " [ 720  291  635 5650  737  154  504  584  332   72  223  344  256   34\n",
      "   156  189]\n",
      " [ 648  262  671  752 5771  170  510  646  245  114  219  249  226   62\n",
      "   162  214]\n",
      " [  85  713  282  144  162 2181  443  192   47  209  176   81  127  100\n",
      "   212  118]\n",
      " [ 330  967  756  506  552  406 5161  514  124  295  342  261  208  127\n",
      "   348  249]\n",
      " [ 618  285  732  605  675  213  512 5148  231   88  271  292  286   64\n",
      "   217  300]\n",
      " [ 525   63  202  312  241   38  105  197 6749  174  487  751  560  126\n",
      "   316  498]\n",
      " [  61  418  225   77  108  233  293  100  154 5771  710  425  434  740\n",
      "  1094  474]\n",
      " [ 292  291  404  196  221  175  348  276  488  718 4816  708  686  392\n",
      "   766  739]\n",
      " [ 334  137  291  334  270   64  240  264  788  343  683 4406  698  259\n",
      "   644  628]\n",
      " [ 287  149  289  276  239   88  229  321  594  456  673  690 4682  273\n",
      "   636  840]\n",
      " [  34  133  117   36   68  103  146   60   99  713  399  202  295 1917\n",
      "   530  294]\n",
      " [ 127  407  281  156  155  208  311  185  296 1186  756  621  615  566\n",
      "  4348  611]\n",
      " [ 257  156  302  226  198  115  221  313  518  413  675  631  856  298\n",
      "   590 4441]]\n",
      "\n",
      "Model DecisonTree saved to disk\n",
      "\n",
      "Starting training for model RandomForest...\n",
      "\n",
      "Classifier RandomForest has accuracy: 0.6494684878403344\n",
      "\n",
      "Confusion Matrix\n",
      "[[8413  136  511  445  345   16  144  428  466   25  177  175  182   15\n",
      "    62  142]\n",
      " [  22 9403  181   45   72  146  423   81   12  436  124   24   34   47\n",
      "   167   43]\n",
      " [ 328  601 8236  241  297   73  450  438   79  227  262  114  196   53\n",
      "   145  189]\n",
      " [ 468  443  481 7365  329   41  308  399  288   53  142  230  155    5\n",
      "    55  119]\n",
      " [ 525  319  485  529 7219   36  329  434  218  139  157  143  160   53\n",
      "    48  127]\n",
      " [  25 1363  171   44   53 2534  329   72   15  270  117   18   45   39\n",
      "   121   56]\n",
      " [ 161 1440  553  328  270  113 6847  262   42  318  258   80  132   59\n",
      "   180  103]\n",
      " [ 485  410  665  389  473   62  351 6525  166   56  214  156  208   12\n",
      "   118  247]\n",
      " [ 317   37  109  134   87    5   38  144 8453  227  472  338  409   43\n",
      "   205  326]\n",
      " [   4  297   76   20   23   99  124   33   15 9220  347   85  141  224\n",
      "   517   92]\n",
      " [ 179  223  219  108   80   67  170  203  284  948 6961  399  487  117\n",
      "   524  547]\n",
      " [ 214  114  191  197  121   11  155  156  777  555  630 5796  524  105\n",
      "   433  404]\n",
      " [ 204  105  175  126  123   30  106  229  511  625  600  434 6355  144\n",
      "   420  535]\n",
      " [  12  140   75    8   13   36   80   40   24 1276  261   99  160 2316\n",
      "   459  147]\n",
      " [  77  361  168   73   66   81  116  118  154 1748  551  324  376  204\n",
      "  6032  380]\n",
      " [ 161  116  192  119  106   34  102  264  387  618  680  439  779  156\n",
      "   508 5549]]\n",
      "\n",
      "Model RandomForest saved to disk\n",
      "\n",
      "Training finished!\n",
      "Wall time: 30min 56s\n"
     ]
    }
   ],
   "source": [
    "%%time\n",
    "\n",
    "# Run the function to test all algorithms\n",
    "train_evaluate_gender_pca(classifiers, x2_train, x2_test, y2_train, y2_test)\n",
    "\n",
    "print('\\nTraining finished!')"
   ]
  },
  {
   "cell_type": "markdown",
   "metadata": {},
   "source": [
    "Looks like the performance was lower using PCA, so I'll keep the first model.\n",
    "Next project is doing voice prediction with AI :)"
   ]
  }
 ],
 "metadata": {
  "kernelspec": {
   "display_name": "Python 3",
   "language": "python",
   "name": "python3"
  },
  "language_info": {
   "codemirror_mode": {
    "name": "ipython",
    "version": 3
   },
   "file_extension": ".py",
   "mimetype": "text/x-python",
   "name": "python",
   "nbconvert_exporter": "python",
   "pygments_lexer": "ipython3",
   "version": "3.7.7"
  }
 },
 "nbformat": 4,
 "nbformat_minor": 4
}
